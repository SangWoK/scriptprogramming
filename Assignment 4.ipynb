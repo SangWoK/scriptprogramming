{
 "cells": [
  {
   "cell_type": "markdown",
   "id": "14484486",
   "metadata": {},
   "source": [
    "### 1번"
   ]
  },
  {
   "cell_type": "code",
   "execution_count": 1,
   "id": "45a4ada8",
   "metadata": {},
   "outputs": [],
   "source": [
    "fileS = open(\"s.txt\",'r')\n",
    "lines = []\n",
    "while 1:\n",
    "    line = fileS.readline().strip()\n",
    "    if not line: break\n",
    "    lines.append(line)\n",
    "fileS.close()\n",
    "\n",
    "lines.sort()\n",
    "for i in range(len(lines)-1):\n",
    "    lines[i] = lines[i]+'\\n'\n",
    "\n",
    "fileS1 = open(\"s1.txt\",'w')\n",
    "for line in lines:\n",
    "    fileS1.write(line )\n",
    "fileS1.close()"
   ]
  },
  {
   "cell_type": "code",
   "execution_count": 2,
   "id": "00e8ad82",
   "metadata": {},
   "outputs": [],
   "source": [
    "fileS = open(\"s.txt\",'r')\n",
    "linelist = []\n",
    "while 1:\n",
    "    line = fileS.readline().strip()\n",
    "    if not line: break\n",
    "    linelist.append(line.split(' '))\n",
    "fileS.close()\n",
    "\n",
    "linelist.sort(key = lambda x:x[1])\n",
    "for i in range(len(linelist)-1):\n",
    "    linelist[i] = linelist[i][0] + ' ' + linelist[i][1]+ '\\n'\n",
    "linelist[len(linelist)-1] = linelist[len(linelist)-1][0] + ' ' + linelist[len(linelist)-1][1]\n",
    "\n",
    "fileS2 = open(\"s2.txt\",'w')\n",
    "for line in linelist:\n",
    "    fileS2.writelines(line)\n",
    "fileS2.close()"
   ]
  },
  {
   "cell_type": "code",
   "execution_count": 3,
   "id": "2eaea89b",
   "metadata": {},
   "outputs": [],
   "source": [
    "fileS = open(\"s.txt\",'r')\n",
    "linelist = []\n",
    "while 1:\n",
    "    line = fileS.read().replace('\\n',' ')\n",
    "    if not line: break\n",
    "    linelist = line.split(' ')\n",
    "fileS.close()\n",
    "\n",
    "fileS3 = open(\"s3.txt\",'w')\n",
    "for i in range(len(linelist)):\n",
    "    fileS3.write(linelist[i])\n",
    "    if (i + 1) % 3 == 0:\n",
    "        fileS3.write('\\n')\n",
    "    else:\n",
    "        fileS3.write(' ')\n",
    "fileS3.close()"
   ]
  },
  {
   "cell_type": "markdown",
   "id": "3ce1af90",
   "metadata": {},
   "source": [
    "1 의 1번은 작성하라는 내용이 없다. 코드작성을 안하는 것이라고 판단된다.\n",
    "* 2)\n",
    "> s.txt 를 r모드로 열고 빈 리스트(L)를 생성한다. L에 모든 줄을 줄넘김 문자를 제거하고, 추가한다. 그 뒤 L을 정렬한다.  \n",
    "마지막 요소를 제외하고 리스트의 각 요소(string)에 줄넘김 문자를 추가한다.  \n",
    "s1.txt 파일을 w모드로 열고 L의 모든 요소를 넣는다.\n",
    "* 3)\n",
    "> s.txt 를 r모드로 열고 빈 리스트(L)를 생성한다. L에 모든 줄에서 줄넘김 문자를 제거하고, 공백을 기준으로 분리한 리스트를 추가한다.  \n",
    "L을 인덱스 1의 값으로 정렬, 즉 뒤의 단어를 기준으로 정렬한다.  \n",
    "마지막 줄을 제외하고 리스트의 각 요소에 원본의 인덱스 0의 값, 공백, 인덱스 1의 값, 줄넘김문자를 합한 것을 대입한다.  \n",
    "마지막 줄은 위와 똑같이 하되, 줄넘김 문자를 추가하지 않는다. s2.txt 파일을 w모드로 열고 L의 모든 요소를 넣는다.\n",
    "* 4)\n",
    "> s.txt 를 r모드로 열고 빈 리스트(L)를 생성한다. 텍스트를 모두 읽으며 줄넘김 문자를 공백으로 바꾸고, 공백을 기준으로 분리해 L에 넣는다.  \n",
    "s3.txt 를 w모드로 열고, 각 요소를 집어넣는데, 집어넣은 횟수가 3이 될 때마다 줄넘김 문자를 추가해준다."
   ]
  },
  {
   "cell_type": "markdown",
   "id": "4e2bbcad",
   "metadata": {},
   "source": [
    "### 2번"
   ]
  },
  {
   "cell_type": "code",
   "execution_count": 1,
   "id": "838b9e2a",
   "metadata": {},
   "outputs": [],
   "source": [
    "import os\n",
    "import hashlib\n",
    "\n",
    "def enterID():\n",
    "    ID = input('ID를 입력하세요. : ')\n",
    "    if os.path.exists('access.txt'):\n",
    "        file = open('access.txt', 'r')\n",
    "        if os.stat('access.txt').st_size == 0:\n",
    "            file.close()\n",
    "            return ID\n",
    "        while 1:\n",
    "            line = file.readline().replace(',','').replace(':','')\n",
    "            if not line: break\n",
    "            lineList = line.split(' ')\n",
    "            if ID == lineList[0]:\n",
    "                print('Sorry, the enterd ID is already used')\n",
    "                file.close()\n",
    "                ID = enterID()\n",
    "                break\n",
    "        return ID\n",
    "    else:\n",
    "        return ID       \n",
    "\n",
    "def enterPassword():\n",
    "    Password = input('비밀번호를 입력하세요. : ')\n",
    "    encoPassword = hashlib.sha1(Password.encode()).hexdigest()\n",
    "    return encoPassword\n",
    "    \n",
    "\n",
    "def SignUp():\n",
    "    print(\"계정 생성\")\n",
    "    \n",
    "    ID = enterID()\n",
    "    Password = enterPassword()\n",
    "    Name = input('이름를 입력하세요. : ')\n",
    "    School = input('학교를 입력하세요. : ')\n",
    "    file = open('access.txt', 'a')\n",
    "    if os.stat('access.txt').st_size == 0:\n",
    "        file.write(ID + ': ' + Password + ', ' + Name + ', ' + School)\n",
    "    else:\n",
    "        file.write('\\n' + ID + ': ' + Password + ', ' + Name + ', ' + School)\n",
    "    file.close()"
   ]
  },
  {
   "cell_type": "code",
   "execution_count": 9,
   "id": "dfe69c57",
   "metadata": {},
   "outputs": [],
   "source": [
    "def checkID():\n",
    "    enteredID = input(\"아이디를 입력하세요. : \")\n",
    "    file = open('access.txt', 'r')\n",
    "    while 1:\n",
    "        line = file.readline().replace(',','').replace(':','')\n",
    "        if not line: break\n",
    "        lineList = line.split(' ')\n",
    "        if enteredID == lineList[0]:\n",
    "            file.close()\n",
    "            return enteredID\n",
    "    print('Sorry, you are not a registered member')\n",
    "    file.close()\n",
    "    checkID()\n",
    "    \n",
    "def checkPS(ID):\n",
    "    password = enterPassword()   \n",
    "    file = open('access.txt', 'r')\n",
    "    while 1:\n",
    "        line = file.readline().replace(',','').replace(':','')\n",
    "        if not line: break\n",
    "        lineList = line.split(' ')\n",
    "        if ID == lineList[0]:\n",
    "            if password == lineList[1]:\n",
    "                print('Hello ' + lineList[2])\n",
    "                file.close()\n",
    "                return\n",
    "            else:\n",
    "                break\n",
    "    print('Sorry, the entered password is not correct')\n",
    "    file.close()\n",
    "    checkPS(ID)\n",
    "\n",
    "def SignIn():\n",
    "    if os.path.exists('access.txt'):\n",
    "        file = open('access.txt', 'r')\n",
    "        if os.stat('access.txt').st_size == 0:\n",
    "            print(\"작성된 계정정보가 없습니다.\")\n",
    "            file.close()\n",
    "            return 0\n",
    "    else:\n",
    "        print(\"작성된 계정정보가 없습니다.\")\n",
    "        return 0\n",
    "    \n",
    "    print(\"로그인\")\n",
    "    ID = checkID()\n",
    "    if ID:\n",
    "        checkPS(ID)"
   ]
  },
  {
   "cell_type": "code",
   "execution_count": 11,
   "id": "36e12356",
   "metadata": {
    "scrolled": true
   },
   "outputs": [
    {
     "name": "stdout",
     "output_type": "stream",
     "text": [
      "Welcome to Our Service\n",
      "\tA. Sign Up\n",
      "\tB. Sign In\n",
      "\tC. Quit\n",
      "선택하시오 : 3\n",
      "프로그램 종료\n"
     ]
    }
   ],
   "source": [
    "print('Welcome to Our Service\\n\\tA. Sign Up\\n\\tB. Sign In\\n\\tC. Quit')\n",
    "choice = int(input('선택하시오 : '))\n",
    "\n",
    "if choice == 1:\n",
    "    SignUp()\n",
    "elif choice == 2:\n",
    "    SignIn()\n",
    "else:\n",
    "    print('프로그램 종료')"
   ]
  },
  {
   "cell_type": "markdown",
   "id": "011a8777",
   "metadata": {},
   "source": [
    "* enterID()\n",
    "> SignUp 함수에서 ID를 입력받는 용도로 쓰이는 함수다.  \n",
    "ID를 입력받고, access.txt 파일이 존재하지 않거나, 빈 파일이면 ID를 반환한다.  \n",
    "아니라면 파일의 각 줄을 읽는데, , 과 : 를 공백으로 치환시키고, 공백을 기준으로 분리한다. 파일 내 인덱스 0의 값이 ID이므로 일치하면 enterID를 다시 부른다. 모든 줄을 읽어서 없으면 ID를 반환한다.\n",
    "* enterPassword()\n",
    "> SignUp 함수에서 password를 입력받는 용도로 쓰이는 함수다.  \n",
    "비밀번호를 입력받고 해시코드로 암호화한 뒤 반환한다.  \n",
    "* SignUp()\n",
    "> 계정생성을 담당하는 함수다.  \n",
    "ID와 password는 enterID()와 enterPassword()의 반환값으로 입력받는다. 그리고 이름과 학교를 입력한다.  \n",
    "access.txt 를 a모드로 열고 양식에 맞게 문자열을 만들어 넣는데, 앞에 줄바꿈 문자를 추가한다.  \n",
    "다만 파일이 빈 경우는 줄바꿈 문자를 넣지 않는다.\n",
    "* checkID()\n",
    "> SignIn 함수에서 ID를 입력하고, 확인하는 용도로 쓰이는 함수다.  \n",
    "ID를 입력받고 access.txt 파일을 r모드로 연다. enterID 함수처럼 읽어서 분리한 뒤 일치하는 ID가 있으면, ID를 반환한다. 만약 ID가 일치하지 않고 반복문을 나오면 메시지를 출력하고 checkID를 다시 호출한다.  \n",
    "* checkPS()\n",
    "> SignIn 함수에서 Password를 입력하고, 확인하는 용도로 쓰이는 함수다.  \n",
    "읽어서 분리하는 부분까지는 checkID와 동일하다. 입력한 아이디와 읽은 아이디가 일치하며, 입력한 Password와 읽은 password가 일치하면 Hello 'name' 을 출력하고 함수를 나온다. 만약 Password가 모두 일치하지 않으면 메시지를 출력하고 checkPS를 다시 호출한다.\n"
   ]
  },
  {
   "cell_type": "markdown",
   "id": "978c4b69",
   "metadata": {},
   "source": [
    "### 3번"
   ]
  },
  {
   "cell_type": "code",
   "execution_count": 34,
   "id": "8d7ad89f",
   "metadata": {
    "scrolled": true
   },
   "outputs": [
    {
     "data": {
      "text/plain": [
       "[2.2, 2.7, 3.2, 3.7]"
      ]
     },
     "execution_count": 34,
     "metadata": {},
     "output_type": "execute_result"
    }
   ],
   "source": [
    "def frange(val1, val2 = None, step = 0.1):\n",
    "    if val2 == None:\n",
    "        start = 0.0\n",
    "        stop = val1\n",
    "    else:\n",
    "        start = val1\n",
    "        stop = val2\n",
    "\n",
    "    returnList = []\n",
    "    while start <= stop:  \n",
    "        returnList.append(start)\n",
    "        start += step\n",
    "        start = round(start,1)\n",
    "    return returnList\n",
    "\n",
    "frange(2.2, 4.0, 0.5)"
   ]
  },
  {
   "cell_type": "markdown",
   "id": "e2e56be1",
   "metadata": {},
   "source": [
    "> 매개변수는 start stop step 순으로 입력되야 하지만 stop 만이 필수로 들어가야한다.  \n",
    "그래서 val2를 None으로, step을 0.1으로 기본값 설정한 뒤, val2가 None인 경우는 매개변수를 하나만 받은 경우이므로, start를 0.0으로 초기화하고, stop을 val1값으로 한다. val2가 None이 아니라면 매개변수를 2개 이상 받은 경우이므로 start를 val1으로, stop을 val2로 초기화한다.  \n",
    "리턴값을 줄 빈 리스트를 선언하고, start가 stop을 초과하지 않을 때까지 반복문을 돌리고 start에 step를 더하며 start를 리스트에 추가한다. 반복문이 끝나면 리스트를 반환한다"
   ]
  },
  {
   "cell_type": "markdown",
   "id": "d0d24774",
   "metadata": {},
   "source": [
    "### 4번"
   ]
  },
  {
   "cell_type": "code",
   "execution_count": 12,
   "id": "c76506a0",
   "metadata": {},
   "outputs": [
    {
     "data": {
      "text/plain": [
       "5"
      ]
     },
     "execution_count": 12,
     "metadata": {},
     "output_type": "execute_result"
    }
   ],
   "source": [
    "def sum(*val):\n",
    "    if len(val) == 0:\n",
    "        return 0\n",
    "    \n",
    "    sumNumber = 0\n",
    "    for i in val:\n",
    "        sumNumber += i\n",
    "    return sumNumber\n",
    "\n",
    "sum(1,5,7,2,-10)"
   ]
  },
  {
   "cell_type": "markdown",
   "id": "f3206382",
   "metadata": {},
   "source": [
    "> 가변인수는 * 를 붙이는 방법으로 사용한다.  \n",
    "가변인수(val)를 써서 함수를 생성하고 가변인수의 길이가 0이라면 입력값이 없기 때문에 0을 반환한다.  \n",
    "0이 아니라면 합을 더할 변수 A를 0으로 초기화하고, val의 요소 각각을 뽑아 A에 더한 뒤 A를 반환한다."
   ]
  },
  {
   "cell_type": "markdown",
   "id": "e5c36b88",
   "metadata": {},
   "source": [
    "### 5번"
   ]
  },
  {
   "cell_type": "code",
   "execution_count": 19,
   "id": "09795b93",
   "metadata": {},
   "outputs": [
    {
     "name": "stdout",
     "output_type": "stream",
     "text": [
      "ASAP\n"
     ]
    }
   ],
   "source": [
    "def strupper(strs):\n",
    "    return strs[:1].upper() \n",
    "\n",
    "def myinitial(strs):\n",
    "    strList = strs.split()\n",
    "    strMap = list(map(strupper, strList))\n",
    "    strJoin = \"\".join(strMap)\n",
    "    print(strJoin)\n",
    "\n",
    "myinitial(\"as soon as possible\")"
   ]
  },
  {
   "cell_type": "markdown",
   "id": "18e29f32",
   "metadata": {},
   "source": [
    "* strupper(strs)\n",
    "> myinitial 함수에서 쓰이는 함수다. 입력받은 strs에서 첫 자만 슬라이싱해서 빼내고, 대문자로 올린 문자열을 반환한다.\n",
    "* myinitial(strs)\n",
    "> strList에 입력받은 문자열을 공백을 구분자로 구분한다.  \n",
    "map으로 strupper함수에 strList의 요소를 각각 넣고 list로 형변환해서 strMap에 대입한다.  \n",
    "join으로 strMap요소를 빈 문자열에 집어넣고 해당 문자열을 출력한다.  "
   ]
  },
  {
   "cell_type": "markdown",
   "id": "5f4afc76",
   "metadata": {},
   "source": [
    "### 6번"
   ]
  },
  {
   "cell_type": "code",
   "execution_count": 17,
   "id": "14010a28",
   "metadata": {},
   "outputs": [
    {
     "data": {
      "text/plain": [
       "3628800"
      ]
     },
     "execution_count": 17,
     "metadata": {},
     "output_type": "execute_result"
    }
   ],
   "source": [
    "def myfact(n):\n",
    "    if n > 1:\n",
    "        return n * myfact(n - 1)\n",
    "    elif n == 0:\n",
    "        return 0\n",
    "    else:\n",
    "        return 1\n",
    "\n",
    "myfact(10)"
   ]
  },
  {
   "cell_type": "markdown",
   "id": "ad64e40b",
   "metadata": {},
   "source": [
    "> n이 1보다 크면 n보다 1 작은 수를 myfact 의 매개변수로 넣어서 나온 값과 n을 곱한 값을 반환한다.  \n",
    "재귀를 통해 n이 점점 1씩 작아져서 n-1이 0인 경우 재귀가 종료된다.  \n",
    "n이 0인 경우 0을 반환하고, n이 1인 경우 1을 반환한다."
   ]
  },
  {
   "cell_type": "markdown",
   "id": "1d7d150b",
   "metadata": {},
   "source": [
    "### 7번"
   ]
  },
  {
   "cell_type": "markdown",
   "id": "97690967",
   "metadata": {},
   "source": [
    "import string 의 경우 string 이라는 모듈 하나만 설치되어, 내부 모듈을 사용하려면 string.~~ 로 꺼내 써야 한다.  \n",
    "반면 from strong import * 의 경우 string 내부의 모든 모듈이 각각 설치된다. string 이라는 모듈은 설치되지 않는다. 내부 모듈을 사용할 시 string. 을 쓸 필요가 없다.  "
   ]
  },
  {
   "cell_type": "markdown",
   "id": "bd781d09",
   "metadata": {},
   "source": [
    "### Incremental"
   ]
  },
  {
   "cell_type": "code",
   "execution_count": 33,
   "id": "448f779a",
   "metadata": {},
   "outputs": [
    {
     "name": "stdout",
     "output_type": "stream",
     "text": [
      "['Page', 'Error', '404']\n",
      "['한국기술교육대학교', '대학', '제공합니다']\n",
      "['리빙', '전', '구독']\n",
      "['날씨', '°C', '맑음']\n",
      "['The', 'New', 'Times']\n",
      "검색어를 입력하세요. : 한국기술교육대학교 에서 대학을 맑음 네이버 에 가 New\n",
      "http://www.nytimes.com\n",
      "http://www.daum.net\n",
      "https://www.koreatech.ac.kr\n",
      "http://www.naver.com\n",
      "http://cse.koreatech.ac.kr\n"
     ]
    }
   ],
   "source": [
    "import requests\n",
    "import string\n",
    "import os\n",
    "import pickle\n",
    "    \n",
    "# <script> 태그 제거\n",
    "def cleanhtml_script(htmlText):\n",
    "    j = 0;\n",
    "    S = ''\n",
    "    for i in range(len(htmlText)):\n",
    "        i = htmlText.find('<script',j)\n",
    "        S += htmlText[j:i]\n",
    "        j = htmlText.find('</script>',i)\n",
    "        if(j == -1):\n",
    "            break\n",
    "        j += 9               \n",
    "    return S\n",
    "\n",
    "# <style> 태그 제거\n",
    "def cleanhtml_style(htmlText):\n",
    "    j = 0;\n",
    "    S = ''\n",
    "    for i in range(len(htmlText)):\n",
    "        i = htmlText.find('<style',j)\n",
    "        S += htmlText[j:i]\n",
    "        j = htmlText.find('</style>',i)\n",
    "        if(j == -1):\n",
    "            break\n",
    "        j += 8         \n",
    "    return S \n",
    "\n",
    "def cleanhtml_class(htmlText):\n",
    "    j = 0;\n",
    "    S = ''\n",
    "    for i in range(len(htmlText)):\n",
    "        i = htmlText.find('class=',j)\n",
    "        S += htmlText[j:i]\n",
    "        j = htmlText.find('>',i)\n",
    "        if(j == -1):\n",
    "            break  \n",
    "    return S \n",
    "\n",
    "# 나머지 태그 제거\n",
    "def cleanhtml_ex(htmlText):\n",
    "    j = 0;\n",
    "    S = ''\n",
    "    for i in range(len(htmlText)):\n",
    "        i = htmlText.find('>',j)\n",
    "        if(i == -1 or i == len(htmlText)-1):\n",
    "            break\n",
    "        j = htmlText.find('<',i)\n",
    "        if htmlText[i+1] != '<':    \n",
    "            S += htmlText[i+1:j] + \" \"\n",
    "    return S\n",
    "\n",
    "# 태그제거 통합 & 리스트변환\n",
    "def cleanhtml(htmlText):\n",
    "    source1 = cleanhtml_script(htmlText)\n",
    "    source2 = cleanhtml_style(source1)\n",
    "    source3 = cleanhtml_ex(source2)\n",
    "    source4 = cleanhtml_class(source3)\n",
    "    textList = source4.split()\n",
    "    return textList\n",
    "\n",
    "# 구두문자 제거\n",
    "def cleanpunct(textList):\n",
    "    for i, text in enumerate(textList):\n",
    "        for p in string.punctuation:\n",
    "            if p in text:\n",
    "                textList[i] = text.strip(string.punctuation)    \n",
    "    \n",
    "    return textList\n",
    "\n",
    "# 공백요소 제거\n",
    "def cleanblank(textList):\n",
    "    cleanlist = ' '.join(textList).split()\n",
    "    return cleanlist\n",
    "\n",
    "# 딕셔너리화\n",
    "def turndict(textList):\n",
    "    textdict = {}\n",
    "    for text in textList:\n",
    "        if text not in textdict:\n",
    "            textdict[text]=1\n",
    "        else:\n",
    "            textdict[text]+=1\n",
    "            \n",
    "    return textdict\n",
    "\n",
    "# 내용 : 불용어 추출.\n",
    "# 반환값 : 한글불용어, 영어불용어\n",
    "# 사용처 : erasestopword() 함수 내 사용\n",
    "def takestopword():\n",
    "    file = open('stop_words_korean.txt','r', encoding = 'UTF8')\n",
    "    LKoreanStopWord = []\n",
    "    while 1:\n",
    "        line = file.readline().strip()\n",
    "        if not line: break\n",
    "        splitline = line.split(' ')\n",
    "        LKoreanStopWord.extend(splitline)\n",
    "        \n",
    "    file = open('stop_words_english.txt','r', encoding = 'UTF8')\n",
    "    LEnglishStopWord = []\n",
    "    while 1:\n",
    "        line = file.readline().strip()\n",
    "        if not line: break\n",
    "        LEnglishStopWord.append(line)\n",
    "    \n",
    "    return LKoreanStopWord, LEnglishStopWord\n",
    "\n",
    "# 입력값 : 소스 내 단어 딕셔너리(A)\n",
    "# 내용 : A 내 불용어 삭제\n",
    "# 출력값 : 불용어가 제거된 A\n",
    "def erasestopword(DictSourceWord):\n",
    "    LKoreanStopWord, LEnglishStopWord = takestopword()\n",
    "    for dex in range(0, len(DictSourceWord)):    \n",
    "        for stopword in LKoreanStopWord:\n",
    "            if stopword in DictSourceWord:\n",
    "                del DictSourceWord[stopword]\n",
    "        for stopword in LEnglishStopWord:\n",
    "            if stopword in DictSourceWord:\n",
    "                del DictSourceWord[stopword]                                                \n",
    "    return DictSourceWord\n",
    "\n",
    "# 입력값 : Url\n",
    "# 내용 : Url.html 파일 생성\n",
    "def makehtmlfile(Url):\n",
    "    if not os.path.exists('Incremental'):\n",
    "        os.mkdir('Incremental')\n",
    "    i = Url.find('://')   \n",
    "    SUrlname = './Incremental/' + Url[i+3:] + '.html'\n",
    "    file = open(SUrlname,'w')\n",
    "    file.close()\n",
    "        \n",
    "# 입력값 : 불용어 제거된 딕셔너리, url 문자열\n",
    "# 내용 : url.words_frequency 이름의 pickle 생성\n",
    "def makepickle(DictSourceWord, Url):\n",
    "    i = Url.find('://')   \n",
    "    Urlname = './Incremental/' + Url[i+3:] + '.words_frequency.pickle'\n",
    "    with open(Urlname,'wb') as fw:\n",
    "        pickle.dump(DictSourceWord, fw)\n",
    "        \n",
    "# 입력값 : url 문자열\n",
    "# 출력값 : 해당 url의 pickle 딕셔더리 데이터\n",
    "def loadpickle(Url):\n",
    "    i = Url.find('://')   \n",
    "    Urlname = './Incremental/' + Url[i+3:] + '.words_frequency.pickle'\n",
    "    with open(Urlname,'rb') as fr:\n",
    "        sourcedict = pickle.load(fr)\n",
    "    return sourcedict\n",
    "\n",
    "# 입력값 : 불용어 제거된 딕셔너리\n",
    "# 출력값 : 가장 많이 나온 단어 리스트 [1번째, 2번째, 3번째]\n",
    "def picktopthree(DictSourceWord):\n",
    "    Dsourceword = sorted(DictSourceWord.items(),reverse = True, key = lambda item: item[1])\n",
    "    Ltopthree = [Dsourceword[0][0], Dsourceword[1][0], Dsourceword[2][0]]\n",
    "    return Ltopthree\n",
    "\n",
    "# 출력값 : 찾을 단어 리스트\n",
    "def getsearchword():\n",
    "    Sword = input('검색어를 입력하세요. : ')\n",
    "    Lword = Sword.split()\n",
    "    LKoreanStopWord, LEnglishStopWord = takestopword()    \n",
    "    for stopword in LKoreanStopWord:\n",
    "        if stopword in Lword:\n",
    "            Lword.remove(stopword)\n",
    "    for stopword in LEnglishStopWord:\n",
    "        if stopword in Lword:\n",
    "            Lword.remove(stopword)\n",
    "    return Lword\n",
    "\n",
    "# 입력값 : 찾을 단어 리스트, url단어 리스트\n",
    "# 출력값 : url 단어리스트 속 찾는 단어:개수 와 총 개수가 입력된 딕셔너리\n",
    "def foundword(Lword, Durlword):\n",
    "    Dword = {}\n",
    "    for word in Lword:\n",
    "        if word in Durlword:\n",
    "            Dword[word] = Durlword.get(word)\n",
    "    total = 0\n",
    "    for count in Dword.values():\n",
    "        total += count\n",
    "    Dword['Total'] = total\n",
    "    return Dword\n",
    "\n",
    "# 입력값 : url 리스트, 찾을 단어 리스트, url 단어 딕셔너리\n",
    "# 내용 : 찾은 모든 단어 수가 가장 많은 것을 기준으로 url을 내림차순 출력\n",
    "def checksimilarity(Lurl, Lword, Durlword):\n",
    "    totalwords = {}\n",
    "    for i in range(0,5):\n",
    "        totalwords[Lurl[i]] = foundword(Lword, Durlword[i]).get('Total')\n",
    "    totalwords = sorted(totalwords.items(),reverse = True, key = lambda item: item[1])\n",
    "    for i in range(0,5):\n",
    "        print(totalwords[i][0])\n",
    "\n",
    "#~~~~~~~~~~~~~~~~~~~~~~~~~~~~~~~~~~~~~~~~~~~~~~~~~~~~~~~~~~~~~~~~~~~~~~~~~~~~~~~~~~~~~~~~~~~~~~~~~~~~~~~~~~\n",
    "\n",
    "# 태그, 구두문자, 공백 제거. + 딕셔너리 변환\n",
    "def integratedmodule_eraseddict(source):\n",
    "    S1 = cleanhtml(source)\n",
    "    S2 = cleanpunct(S1)\n",
    "    S3 = cleanblank(S2)\n",
    "    S4 = turndict(S3)\n",
    "    S5 = erasestopword(S4)\n",
    "    return S5\n",
    "\n",
    "# 디버깅 용 url 입력값\n",
    "LUrl = ['http://cse.koreatech.ac.kr', 'https://www.koreatech.ac.kr', 'http://www.naver.com',\n",
    "        'http://www.daum.net', 'http://www.nytimes.com']\n",
    "\n",
    "# LUrl = []\n",
    "Lsource_dict = []\n",
    "Lsource_load_dict = []\n",
    "\n",
    "# 1번\n",
    "for i in range(0,5):\n",
    "    # LUrl.append(input('URL을 입력하세요. : '))\n",
    "    req = requests.get(LUrl[i])\n",
    "    Lsource_dict.append(integratedmodule_eraseddict(req.text))  \n",
    "\n",
    "# 2번, 3번, 4번, 5번\n",
    "for i in range(0,5):\n",
    "    makehtmlfile(LUrl[i])\n",
    "    makepickle(Lsource_dict[i],LUrl[i])\n",
    "    print(picktopthree(loadpickle(LUrl[i])))\n",
    "\n",
    "# 6번\n",
    "Lword = getsearchword()\n",
    "checksimilarity(LUrl, Lword, Lsource_dict)\n"
   ]
  },
  {
   "cell_type": "markdown",
   "id": "f4681285",
   "metadata": {},
   "source": [
    "* takestopword()  \n",
    "> 한글 불용어의 uml을 들어갈 시 404 NOT FOUND 가 나와서, txt파일로 만들었다.  \n",
    "한줄씩 읽어, 줄바꿈글자를 제거하고 빈 리스트에 넣었다. 그리고 반환한다.   \n",
    "다만 한글은 띄어쓰기가 있는 경우 분리를 하기 위해 split으로 분리해서 리스트를 따로 생성하고, extend를 써서 이어 붙이는 방식으로 추가했다.  \n",
    "* erasestopword(A)  \n",
    "> takestopword 를 통해 불용어를 받고, 불용어 리스트에서 단어를 하나씩 뽑아 A에 존재하는 지 확인하고, 있다면 제거했다. 그리고 A를 반환한다.  \n",
    "* makehtmlfile(url)  \n",
    "> Incremental 디렉토리가 있는 지 확인하고, 없으면 생성한다. string형식으로 된 url에서 :// 의 인덱스를 찾는다.  \n",
    "://의 글자 수인 3을 찾은 인덱스에 더해서 그 뒤로 끝까지 슬라이싱하고, 앞에 ./Incremental/ 을, 뒤에 .html 을 붙인다.  \n",
    "그렇게 만든 문자열의 이름으로 파일을 w모드로 열고 닫아 생성하면, Incremental 디렉토리 안에 html 파일이 생성된다.  \n",
    "* makepickle(DickSourceWord, Url)\n",
    "> makehtmlfile()과 동일하게 하되, 끝에 .html이 아닌 .words_frequency.pickle 을 붙인다.  \n",
    "만들어진 문자열을 wb모드로 열고, 딕셔너리를 dump로 저장한다.  \n",
    "* loadpickle(Url)\n",
    "> makepickle과 문자열 생성까지는 동일하다. 문자열을 rb모드로 열고 내용을 불러온 뒤 반환한다.\n",
    "* picktopthree(DictSourceWord)\n",
    "> DictSourceWord를 값기준, 역순으로 정렬하고, 0 부터 2번지에 해당하는 키를 리스트로 모아 반환한다.\n",
    "* getsearchword()\n",
    "> 검색어를 입력받아, 공백을 기준으로 나눠 리스트화 시킨다. erasestopword()와 유사한 반복문을 걸처 단어 리스트에서 불용어를 제거하고 반환한다.\n",
    "* foundword(Lword, Durlword)\n",
    "> 빈 딕셔너리(D)를 선언한다. 찾을 단어리스트에서 단어를 하나씩 for문으로 가져와서 url 단어리스트에 존재하면 D에 해당 단어와 갯수를 추가한다.  그 후 각 값을 하나씩 뽑아서 더해 총 개수를 구해서 Total이라는 키로 저장한다.\n",
    "* checksimilarity(Lurl, Lword, Durlword)\n",
    "> 빈 딕셔너리(D)를 선언한다. 0부터 5까지의 인덱스를 for문으로 돌려 D에 각 인덱스에 해당하는 url를 키로, foundword() 함수를 돌려서 나온 딕셔너리에서 키'Total'의 값을 값으로 넣는다. 그리고 값을 기준으로 내림차순 정렬시킨다.   \n",
    "반복문을 돌려서 url부분을 순서대로 출력하면, 찾은 모든 단어 수가 가장 많은 기준 내림차순으로 나온다.\n",
    "* 추가점\n",
    "> 지금 구현된 검색엔진은 모든 단어가 나온 횟수를 더해서, 그 수가 가장 큰 값이 유사성이 높다고 판단했다.  \n",
    "이는 단어가 아니라 문장을 검색할 경우 각각의 단어가 각자 다른 곳에서 검사되기 때문에 문장으로서의 유사성은 없다. 문장을 구분자로 분리하지 않을 때의 검색이 되야한다. "
   ]
  },
  {
   "cell_type": "markdown",
   "id": "2a775411",
   "metadata": {},
   "source": [
    "2018136014_김상우\n",
    "frange 함수를 작성할 때 range의 형태 중 start가 디폴트 값이 있는 인자인데, 어떻게 앞에 있는지 정말 궁금하다."
   ]
  },
  {
   "cell_type": "code",
   "execution_count": null,
   "id": "3e3acff0",
   "metadata": {},
   "outputs": [],
   "source": [
    "  "
   ]
  }
 ],
 "metadata": {
  "kernelspec": {
   "display_name": "Python 3",
   "language": "python",
   "name": "python3"
  },
  "language_info": {
   "codemirror_mode": {
    "name": "ipython",
    "version": 3
   },
   "file_extension": ".py",
   "mimetype": "text/x-python",
   "name": "python",
   "nbconvert_exporter": "python",
   "pygments_lexer": "ipython3",
   "version": "3.8.8"
  }
 },
 "nbformat": 4,
 "nbformat_minor": 5
}
