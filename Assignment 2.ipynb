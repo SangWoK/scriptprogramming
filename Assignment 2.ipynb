{
 "cells": [
  {
   "cell_type": "markdown",
   "id": "b961f17b",
   "metadata": {},
   "source": [
    "#### 1. 다음 6 개의 Expression에 대해 Evaluation 결과 값을 출력하고, 해당 결과가 나온 이유에 대해 설명하시오\n",
    "* 1 and 2 and 3 and 4\n",
    "* 1 or 2 or 3 or 4\n",
    "* 1 and 2 or 3 and 4\n",
    "* (1 and 2) or (3 and 4)\n",
    "* 1 or 2 and 3 or 4\n",
    "* (1 or 2) and (3 or 4)"
   ]
  },
  {
   "cell_type": "code",
   "execution_count": 6,
   "id": "05c19581",
   "metadata": {},
   "outputs": [
    {
     "name": "stdout",
     "output_type": "stream",
     "text": [
      "4\n",
      "1\n",
      "2\n",
      "2\n",
      "1\n",
      "3\n"
     ]
    }
   ],
   "source": [
    "print( 1 and 2 and 3 and 4 )\n",
    "print( 1 or 2 or 3 or 4)\n",
    "print( 1 and 2 or 3 and 4)\n",
    "print( ( 1 and 2 ) or ( 3 and 4) )\n",
    "print( 1 or 2 and 3 or 4)\n",
    "print( ( 1 or 2 ) and ( 3 or 4 ) )"
   ]
  },
  {
   "cell_type": "markdown",
   "id": "f5e433ad",
   "metadata": {},
   "source": [
    "* 0 이 아닌 수는 True 이며, and 연산에서 양 쪽이 True인 경우 우측의 결과가 출력된다. 모두 and 연산이므로 끝까지 진행되어 4가 출력된다.\n",
    "* 1 or 2 에서 1에서 이미 True 이다. or 연산에서 첫번째 값으로 결과가 결정되어 첫번째 값인 1이 출력된다.\n",
    "* 1 and 2 에서 2, 2 or 3에서 2가 결과 결정으로 출력되고 종료.\n",
    "* (1 and 2) 에서 2, (3 and 4) 에서 4가 먼저 연산되고 , 2 or 4 에서 2가 출력\n",
    "* 1 or 2 에서 1로 결과 결정되어 출력되고 종료.\n",
    "* (1 or 2) 에서 1, (3 or 4) 에서 3이 먼저 연산되고, 1 and 3 에서 3이 출력"
   ]
  },
  {
   "cell_type": "markdown",
   "id": "5b17b8a9",
   "metadata": {},
   "source": [
    "#### 2. 경로에 해당하는 문자열 1개를 입력 받아 그 안에 디렉토리 경로명과 파일명을 분리하여 리스트로 반환하는 함수 div_path(s)를 작성하시오."
   ]
  },
  {
   "cell_type": "markdown",
   "id": "36139cc8",
   "metadata": {},
   "source": [
    "* 인자로 전달하는 문자열은 경로만 들어간다고 가정한다.\n",
    "* 각 디렉토리와 파일을 구분하는 문자는 '/'로 가정한다.\n",
    "* 반환하는 리스트의 첫번째 원소는 디렉토리이고 두번째 원소는 파일명이다.\n",
    "* 다음과 같은 실행 및 출력 결과가 도출되어야 한다.\n",
    "  * div_path('/usr/local/bin/python')\n",
    "    * ['/usr/local/bin', 'python']\n",
    "  * div_path('/home/chulsoo/test.txt')\n",
    "    * ['/home/chulsoo', 'test.txt']\n",
    "* [참고] 리스트(l) 내에 새로운 정수값 (예를 들어 10)을 넣는 방법은 l.append(10) 이다."
   ]
  },
  {
   "cell_type": "code",
   "execution_count": 2,
   "id": "5893c5e6",
   "metadata": {},
   "outputs": [
    {
     "name": "stdout",
     "output_type": "stream",
     "text": [
      "주소 입력 : /home/chulsoo/test.txt\n"
     ]
    },
    {
     "data": {
      "text/plain": [
       "['/home/chulsoo', 'test.txt']"
      ]
     },
     "execution_count": 2,
     "metadata": {},
     "output_type": "execute_result"
    }
   ],
   "source": [
    "def div_path(s):\n",
    "    inDex = dirLn.rfind('/')\n",
    "    cutLn = []\n",
    "    cutLn.append(s[0:inDex])\n",
    "    cutLn.append(s[inDex+1:])\n",
    "    return cutLn\n",
    "\n",
    "\n",
    "dirLn = input('주소 입력 : ')\n",
    "div_path(dirLn)"
   ]
  },
  {
   "cell_type": "markdown",
   "id": "127e8f4e",
   "metadata": {},
   "source": [
    "주어진 문자열 중 '/' 를 rfind()를 통해 역순으로 찾아 가장 마지막에 있는 /의 인덱스를 저장한다.  \n",
    "빈 리스트를 하나 만들고 append()로 0~저장한 인덱스 번지까지 분리해서 추가한다.  \n",
    "다음으로 /를 제외하기 위해 저장한 인덱스+1 부터 마지막까지 분리해서 추가한다."
   ]
  },
  {
   "cell_type": "markdown",
   "id": "abdd3591",
   "metadata": {},
   "source": [
    "#### 3. 두 개의 리스트를 인자로 받아서 그 두 개의 리스트에 대한 '합집합'을 반환하는 함수 list_union(lista, listb)를 작성하시오.\n",
    "* 집합 자료형 set은 사용하지 않는다.\n",
    "* 인자로 전달하는 리스트 2 개에는 정수값만 들어간다고 가정하자.\n",
    "* 함수 내에서 새로운 리스트를 만들어 그 리스트 내에 인자로 받은 두 리스트의 모든 원소를 넣어 반환한다.\n",
    "* 반환하는 리스트에는 절대로 중복된 원소가 들어 있으면 안된다 (집합의 조건).\n",
    "* 반환하는 리스트는 정렬이 되어 있어야 한다.\n",
    "* 다음과 같은 실행 및 출력 결과가 도출되어야 한다.\n",
    "  * list_union([1, 2, 3], [1, 2, 4])\n",
    "    * [1, 2, 3, 4]\n",
    "  * list_union([-10, -5, 0, -1], [100, 9, 0, 9])\n",
    "    * [-10, -5, -1, 0, 9, 100]\n",
    "  * list_union([0, 1, 2], [0, 1, 2])\n",
    "    * [0, 1, 2]\n",
    "* [참고] 리스트(l) 내에 새로운 정수값 (예를 들어 10)을 넣는 방법은 l.append(10) 이다.\n",
    "* [참고] 임의의 정수값 (x)이 리스트 (l) 내에 존재하는지 판단하는 방법은 x in l 이다.\n"
   ]
  },
  {
   "cell_type": "code",
   "execution_count": 18,
   "id": "90d5a6f7",
   "metadata": {},
   "outputs": [
    {
     "name": "stdout",
     "output_type": "stream",
     "text": [
      "[1, 2, 3, 4]\n",
      "[-10, -5, -1, 0, 9, 100]\n",
      "[0, 1, 2]\n"
     ]
    }
   ],
   "source": [
    "def list_union(lista,listb):\n",
    "    unionList = []\n",
    "    for la in lista:\n",
    "        if(la not in unionList):\n",
    "            unionList.append(la)\n",
    "    for lb in listb:\n",
    "        if(lb not in unionList):\n",
    "            unionList.append(lb)\n",
    "    unionList.sort()\n",
    "    \n",
    "    return unionList\n",
    "\n",
    "print(list_union([1, 2, 3], [1, 2, 4]))\n",
    "print(list_union([-10, -5, 0, -1], [100, 9, 0, 9]))\n",
    "print(list_union([0, 1, 2], [0, 1, 2]))"
   ]
  },
  {
   "cell_type": "markdown",
   "id": "1155e546",
   "metadata": {},
   "source": [
    "합집합을 넣을 빈 리스트(A)를 생성한다.  \n",
    "list 의 요소를 하나씩 뽑아오는 for문을 돌려, A에 존재하지 않은 요소인 경우, 해당 요소를 A.append()하였다.  \n",
    "해당 for문을 lista와 listb 각각 돌린다.  \n",
    "A.sort() 를 통해 정렬하고 반환한다."
   ]
  },
  {
   "cell_type": "markdown",
   "id": "bd68796d",
   "metadata": {},
   "source": [
    "#### 4.  두 개의 리스트를 인자로 받아서 그 두 개의 리스트에 대한 '교집합'을 반환하는 함수list_intersection(lista, listb)와 '차집합'을 반환하는 함수 list_difference(lista, listb)를 작성하시오.\n",
    "* 모든 가정과 조건은 3번 문제와 동일하다."
   ]
  },
  {
   "cell_type": "code",
   "execution_count": 19,
   "id": "4ac2e5c6",
   "metadata": {},
   "outputs": [
    {
     "name": "stdout",
     "output_type": "stream",
     "text": [
      "[1, 8]\n",
      "[2, 3, 4, 5, 6, 7, 9]\n"
     ]
    }
   ],
   "source": [
    "def list_intersection(lista, listb):\n",
    "    interList = []\n",
    "    for lia in lista:\n",
    "        if(lia in listb):\n",
    "            interList.append(lia)\n",
    "    interList.sort()\n",
    "    return interList\n",
    "\n",
    "def list_difference(lista, listb):\n",
    "    difList = []\n",
    "    for lia in lista:\n",
    "        if(lia not in listb):\n",
    "            difList.append(lia)\n",
    "    for lib in listb:\n",
    "        if(lib not in lista):\n",
    "            difList.append(lib)\n",
    "    difList.sort()\n",
    "    return difList\n",
    "\n",
    "    \n",
    "print(list_intersection([5, 3, 1, 8, 6],[1, 9, 7, 2, 4, 8]))\n",
    "print(list_difference([5, 3, 1, 8, 6],[1, 9, 7, 2, 4, 8]))"
   ]
  },
  {
   "cell_type": "markdown",
   "id": "36a416d7",
   "metadata": {},
   "source": [
    "* list_intersection  \n",
    "  빈 List(A)를 만들고 lista의 요소를 하나씩 뽑아오는 for문을 만들어 해당 요소가 listb에도 존재하는 경우  \n",
    "  A에 추가되게 만들었다. A를 정렬하고 반환한다.\n",
    "  \n",
    "* list_difference  \n",
    "  빈 List(A)를 만들고 lista의 요소를 하나씩 뽑아오는 for문을 만들어 해당 요소가 listb에도 존재하지 않는 경우\n",
    "  A에 추가하게 만든다. 그 후 listb의 요소를 이용한 for문으로 반복해 양 쪽의 요소를 모두 검사하여 추가되도록\n",
    "  한다. 마지막으로 정렬한 뒤 반환한다."
   ]
  },
  {
   "cell_type": "markdown",
   "id": "432d9479",
   "metadata": {},
   "source": [
    "#### 5. 두 개의 양의 정수를 인자로 받아서 해당 범위안에 있는 소수(prime number)의 리스트를 출력하는 함수 print_primenumber(a, b)를 작성하시오.\n",
    "* 이미 구현된 모듈이나 라이브러리는 사용하지 않는다.\n",
    "* 함수의 반환(return)은 없으며 함수 내의 끝에서 .format()을 사용하여 다음과 같이 출력한다.\n",
    "  * print_primenumber(2, 10)\n",
    "     * 2 이상 10 이하 정수 중 소수 리스트: [2, 3, 5, 7]\n"
   ]
  },
  {
   "cell_type": "code",
   "execution_count": 38,
   "id": "ba240e5e",
   "metadata": {},
   "outputs": [
    {
     "name": "stdout",
     "output_type": "stream",
     "text": [
      "3 이상 13 이하 정수 중 소수 리스트 : [3, 5, 7, 11, 13]\n"
     ]
    }
   ],
   "source": [
    "def print_primenumber(a,b):    \n",
    "    arr = [True]*(b+1)\n",
    "    for i in range(2, b+1):\n",
    "        if arr[i] == True:\n",
    "            j = 2 # 초기 제거 값 2의 배수\n",
    "            while(i*j)<=b:\n",
    "                arr[i*j] = False\n",
    "                j+=1\n",
    "    printList = []\n",
    "    for k in range(a, b+1):\n",
    "        if arr[k] == True:\n",
    "            printList.append(k)\n",
    "    \n",
    "    fom = \"{}{}{}{}{}\".format(a, \" 이상 \", b, \" 이하 정수 중 소수 리스트 : \", printList)\n",
    "    print(fom)\n",
    "    \n",
    "print_primenumber(3, 13)"
   ]
  },
  {
   "cell_type": "markdown",
   "id": "7f9284e1",
   "metadata": {},
   "source": [
    "예시처럼 b가 a보다 크다고 가정한 코드이다.  \n",
    "b 만큼의 True 값을 가지는 배열을 생성한다.  \n",
    "해당 배열의 크기만큼 2 부터 반복하는 for문을 생성한다. 이 for문에서는 i 의 곱 연산 을 제외하기 위함이기 때문에 2 로 시작한다.  \n",
    "i 인덱스의 값이 True인 경우, 해당 i 값을 제외하고 False로 하기 위해 j는 2로 초기화한다. \n",
    "b 이하이므로, b까지 i * j에 해당하는 값을 False로 바꾼다.  \n",
    "빈 List를 생성하고  \n",
    "인덱스를 이용해 범위 내 리스트를 뽑기 위해 a 부터 b+1 까지 반복문을 돌린다.  \n",
    "해당 인덱스의 값이 True인 경우 그 인덱스 값은 소수인 인덱스이므로, 리스트에 추가한다.\n",
    "포맷팅을 하고 출력한다."
   ]
  },
  {
   "cell_type": "markdown",
   "id": "2d030d33",
   "metadata": {},
   "source": [
    "### [Incremental Project]\n",
    "#### 웹 URL로 지정된 웹페이지를 문자열로 가져와 1) 모든 HTML 태그를 제외한 순수 텍스트 문자열만을 걸러내고, 2) 그 순수 텍스트 문자열 안에 존재하는 단어가 총 몇개인지 출력하는 프로그램을 작성하시오."
   ]
  },
  {
   "cell_type": "code",
   "execution_count": 3,
   "id": "4a9b752a",
   "metadata": {},
   "outputs": [
    {
     "name": "stdout",
     "output_type": "stream",
     "text": [
      "35\n"
     ]
    }
   ],
   "source": [
    "import requests\n",
    "\n",
    "req = requests.get('http://cse.koreatech.ac.kr')\n",
    "source = req.text\n",
    "#source = '<H2>사이트 폐쇄 안내.</H2><H3>특성화 사업 종료로 인한 itcsw.koreatech.ac.kr 사이트가 폐쇄되었습니다.</H3><link rel=\"stylesheet\" href=\"/common/css/xe.min.css?20150910092654\" />'\n",
    "\n",
    "s=''\n",
    "j = 0\n",
    "for i in range(len(source)):  \n",
    "    i = source.find('>',j)\n",
    "    if(i == -1):\n",
    "        break\n",
    "    j = source.find('<',i)\n",
    "    if source[i+1] != '<':       \n",
    "        s += source[i+1:j] + \" \"\n",
    "\n",
    "stList = s.split()\n",
    "print(len(stList))\n"
   ]
  },
  {
   "cell_type": "markdown",
   "id": "80f1c1a5",
   "metadata": {},
   "source": [
    "사이트 주소를 불러오고 source 에 문자열로 입력했다.  \n",
    "추출한 문자열을 넣을 빈 문자열 s를 만들었다.  \n",
    "검색 위치의 초기값을 잡기 위해 j = 0 으로 초기화한다.  \n",
    "source의 길이만큼 반복문을 돌려 i 가 문자열의 크기를 혹시라도 넘어가지 않게 한다.  \n",
    "i 를 '>'가 나오는 인덱스로 변경한다. 첫 탐색 시 j = 0 이므로, 처음부터 탐색하게 된다.  \n",
    "범위를 넘긴 탐색을 방지하기 위해 마지막 > 인 경우, i 가 source의 길이-1 과 같은 경우 반복문을 탈출한다.  \n",
    "j 를 '<'가 나오는 인덱스로 변경한다. 이 때 i 번지 이후에 나와야 되므로 find()의 i부터 시작하는 조건을 넣는다.\n",
    "source[i+1], 즉 '>' 다음에 '<' 가 나오지 않는 경우 순수 텍스문자열 이 나오는 경우이므로, i+1부터 j 까지 슬라이싱해서 s에 추가해준다. 이 때 뒤에 공백을 하나 넣어줘, 각 슬라이싱이 연결되지 않게 분리시킨다.  \n",
    "slList에 s를 split()로 분리하여 넣어주고, stList의 길이를 출력한다."
   ]
  },
  {
   "cell_type": "markdown",
   "id": "817369b9",
   "metadata": {},
   "source": [
    "#### 소감  \n",
    "온라인이 아닌 실시간 수업을 듣고 과제를 하는 경우는 수월하지만, 온라인만 듣고 과제를 시작하면 온라인에 더하여 추가적으로 알아봐야 하는 점이 있습니다"
   ]
  },
  {
   "cell_type": "markdown",
   "id": "1c3f6fb3",
   "metadata": {},
   "source": []
  }
 ],
 "metadata": {
  "kernelspec": {
   "display_name": "Python 3",
   "language": "python",
   "name": "python3"
  },
  "language_info": {
   "codemirror_mode": {
    "name": "ipython",
    "version": 3
   },
   "file_extension": ".py",
   "mimetype": "text/x-python",
   "name": "python",
   "nbconvert_exporter": "python",
   "pygments_lexer": "ipython3",
   "version": "3.8.8"
  }
 },
 "nbformat": 4,
 "nbformat_minor": 5
}
