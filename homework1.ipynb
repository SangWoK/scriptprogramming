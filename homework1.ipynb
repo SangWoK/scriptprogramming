{
 "cells": [
  {
   "cell_type": "markdown",
   "id": "025b75fc",
   "metadata": {},
   "source": [
    "### 1. a=\"Hello Python\" 문자열을 Slicing과 연결 연산자 (+)를 사용하여 \"Python Hello\"로 변경하시오."
   ]
  },
  {
   "cell_type": "code",
   "execution_count": 3,
   "id": "d282b124",
   "metadata": {},
   "outputs": [
    {
     "name": "stdout",
     "output_type": "stream",
     "text": [
      "Python Hello\n"
     ]
    }
   ],
   "source": [
    "a = \"Hello Python\"\n",
    "a = a[6:12]+\" \"+ a[0:5]\n",
    "print(a)"
   ]
  },
  {
   "cell_type": "markdown",
   "id": "122fc655",
   "metadata": {},
   "source": [
    "slice positon은 문자의 앞뒤로 존재한다. 6:12는 P의 앞과 n의 뒤를 의미하고 0:5는 H의 앞과 o의 뒤를 의미한다.  \n",
    "파이썬은 입력변경이 한 줄에서 이루어지므로 'Python 슬라이스' + '공백' + 'Hello 슬라이스' 로 변경한다."
   ]
  },
  {
   "cell_type": "markdown",
   "id": "47d323d7",
   "metadata": {},
   "source": [
    "### 2. b=\"Hello Python World\" 문자열을 Slicing과 연결 연산자 (+)를 사용하여 \"World Python Hello\"로 변경하시오"
   ]
  },
  {
   "cell_type": "code",
   "execution_count": 2,
   "id": "c894b201",
   "metadata": {},
   "outputs": [
    {
     "name": "stdout",
     "output_type": "stream",
     "text": [
      "World Python Hello\n"
     ]
    }
   ],
   "source": [
    "b = \"Hello Python World\"\n",
    "b = b[13:18]+b[5:13]+b[0:5]\n",
    "print(b)"
   ]
  },
  {
   "cell_type": "markdown",
   "id": "7a0ee94d",
   "metadata": {},
   "source": [
    "[13:18]은 World의 앞과 뒤, [5,13]은 Python 앞과 뒤의 공백을 포함한다. 마지막으로 [0,5]는 Hello의 앞고 뒤를 가르킨다.  \n",
    "따라서 공백 문자를 추가하지 않고 b[13:18] b[5:13] b[0:5] 순으로 b를 수정하면 된다."
   ]
  },
  {
   "cell_type": "markdown",
   "id": "a49ba021",
   "metadata": {},
   "source": [
    "### 3. c=\"Hello\"를 \"olleH\"로 변경하시오"
   ]
  },
  {
   "cell_type": "code",
   "execution_count": 31,
   "id": "6822e2b6",
   "metadata": {},
   "outputs": [
    {
     "name": "stdout",
     "output_type": "stream",
     "text": [
      "olleH\n"
     ]
    }
   ],
   "source": [
    "c = \"Hello\"\n",
    "c = c[4::-1]\n",
    "print(c)"
   ]
  },
  {
   "cell_type": "markdown",
   "id": "02816a28",
   "metadata": {},
   "source": [
    "Slicing [A:B:C] 에서 C인 스탭을 이용해 5번지부터 -1번지 순으로 가져오면 역순정렬이 된다."
   ]
  },
  {
   "cell_type": "markdown",
   "id": "1b954a92",
   "metadata": {},
   "source": [
    "### 4. s=\"python\"에 대해 다음 문제를 풀어보시오.\n",
    ">A. s[0], s[0][0], s[0][0][0]은 각각 어떤 값이 나오는지 확인하고 그 이유를 나름대로 설명해 보시오.  \n",
    ">B. s[-100], s[100]은 값이 나오는지 에러가 나오는지 확인하고 그 결과에 대한 이유를 나름대로 설명해 보시오.  \n",
    ">C. s[-100, 100]은 값이 나오는지 에러가 나오는지 확인하고 그 결과에 대한 이유를 나름대로 설명해 보시오.  \n",
    ">D. s[1:-1]의 결과를 확인하고 그 결과에 대한 이유를 정확하게 설명하시오.  \n",
    ">E. s[3:-3]의 결과를 확인하고 그 결과에 대한 이유를 정확하게 설명하시오."
   ]
  },
  {
   "cell_type": "code",
   "execution_count": 55,
   "id": "4de056f3",
   "metadata": {},
   "outputs": [
    {
     "name": "stdout",
     "output_type": "stream",
     "text": [
      "A = p p p\n",
      "B = IndexError : string index out of range\n",
      "C = TypeError : string indices must be integers\n",
      "D = ytho\n",
      "E = \n"
     ]
    }
   ],
   "source": [
    "s=\"python\"\n",
    "print(\"A =\", s[0], s[0][0], s[0][0][0])\n",
    "print(\"B = IndexError : string index out of range\")\n",
    "print(\"C = TypeError : string indices must be integers\")\n",
    "print(\"D =\", s[1:-1])\n",
    "print(\"E =\", s[3:-3])"
   ]
  },
  {
   "cell_type": "markdown",
   "id": "5adf36f6",
   "metadata": {},
   "source": [
    "A : p, p, p  \n",
    "B : s의 + 인덱스는 0 ~ 5까지, - 인덱스는 -1 ~ -7 까지다. 그 이하와 그 이상의 인덱스는 범위를 초과하여 에러가 나온다.  \n",
    "C : [-100,100]이라는 접근법은 틀렸다. 범위를 출력하고 싶다면 : 로 슬라이싱해야한다.  \n",
    "D : s[1]은 y, s[-1]은 o를 가르킨다. s[A:B]는 A~B까지 슬라이싱 하는 것이므로, y부터 o까지가 출력된다.  \n",
    "E : s[3]은 h, s[-3]도 h를 가르킨다. 시작, 끝 인덱스가 같아 아무것도 출력되지 않는다"
   ]
  },
  {
   "cell_type": "markdown",
   "id": "8a418f63",
   "metadata": {},
   "source": [
    "### 5. for문을 활용하여 1부터 100사이의 홀수를 출력하시오."
   ]
  },
  {
   "cell_type": "code",
   "execution_count": 63,
   "id": "48aafbf5",
   "metadata": {},
   "outputs": [
    {
     "name": "stdout",
     "output_type": "stream",
     "text": [
      "1\n",
      "3\n",
      "5\n",
      "7\n",
      "9\n",
      "11\n",
      "13\n",
      "15\n",
      "17\n",
      "19\n",
      "21\n",
      "23\n",
      "25\n",
      "27\n",
      "29\n",
      "31\n",
      "33\n",
      "35\n",
      "37\n",
      "39\n",
      "41\n",
      "43\n",
      "45\n",
      "47\n",
      "49\n",
      "51\n",
      "53\n",
      "55\n",
      "57\n",
      "59\n",
      "61\n",
      "63\n",
      "65\n",
      "67\n",
      "69\n",
      "71\n",
      "73\n",
      "75\n",
      "77\n",
      "79\n",
      "81\n",
      "83\n",
      "85\n",
      "87\n",
      "89\n",
      "91\n",
      "93\n",
      "95\n",
      "97\n",
      "99\n"
     ]
    }
   ],
   "source": [
    "for i in range(1,101):\n",
    "    if i % 2 == 1:\n",
    "        print(i)"
   ]
  },
  {
   "cell_type": "markdown",
   "id": "e3c1bea5",
   "metadata": {},
   "source": [
    "for문의 range를 1 ~ 101로 설정에 1 ~ 100까지 i가 늘어나며 반복하게 한 뒤,  \n",
    "if문 안에서 i를 2로 나눠 나머지가 1인 경우 i를 출력하게 만들었다."
   ]
  },
  {
   "cell_type": "markdown",
   "id": "0c8579a9",
   "metadata": {},
   "source": [
    "### 6. while문을 활용하여 1부터 100사이의 짝수의 합을 계산하여 출력하시오."
   ]
  },
  {
   "cell_type": "code",
   "execution_count": 2,
   "id": "c673948b",
   "metadata": {},
   "outputs": [
    {
     "name": "stdout",
     "output_type": "stream",
     "text": [
      "2550\n"
     ]
    }
   ],
   "source": [
    "sumNumber = 0\n",
    "for i in range(1,101):\n",
    "    if i % 2 == 0:\n",
    "        sumNumber +=i\n",
    "print(sumNumber)"
   ]
  },
  {
   "cell_type": "markdown",
   "id": "663ab67e",
   "metadata": {},
   "source": [
    "짝수들이 더해질 변수를 0으로 초기화하고 for문을 통해 1 ~ 100이 반복되게 하였다.  \n",
    "if문에서 i를 2로 나눠 나머지가 0인 경우 sumNumber에 숫자가 더해지게 만들었다."
   ]
  },
  {
   "cell_type": "markdown",
   "id": "630af212",
   "metadata": {},
   "source": [
    "### 7. 사용자로 부터 임의의 정수를 입력받고, 해당 숫자를 역순으로 출력하는 프로그램을 작성하시오."
   ]
  },
  {
   "cell_type": "code",
   "execution_count": 7,
   "id": "19ea02d4",
   "metadata": {},
   "outputs": [
    {
     "name": "stdout",
     "output_type": "stream",
     "text": [
      "정수를 입력하십시오 : 123456789\n",
      "987654321\n"
     ]
    }
   ],
   "source": [
    "numbers = input('정수를 입력하십시오 : ')\n",
    "print(numbers[::-1])"
   ]
  },
  {
   "cell_type": "markdown",
   "id": "e9fbeda8",
   "metadata": {},
   "source": [
    "정수를 문자열 형식으로 받은 뒤 슬라이싱을 이용해 마지막부터 하나씩 앞으로 오며 출력시켰다."
   ]
  },
  {
   "cell_type": "markdown",
   "id": "7f46b8f1",
   "metadata": {},
   "source": [
    "### 8. 사용자로 부터 정수를 입력받아서 1부터 그 사이에 존재하는 소수 (Prime number)를 출력하는 파이썬 프로그램을 작성하시오."
   ]
  },
  {
   "cell_type": "code",
   "execution_count": 22,
   "id": "92a0bc5c",
   "metadata": {},
   "outputs": [
    {
     "name": "stdout",
     "output_type": "stream",
     "text": [
      "정수를 입력하십시오 : 12\n",
      "2 3 5 7 11 "
     ]
    }
   ],
   "source": [
    "usNumber = int(input('정수를 입력하십시오 : '))\n",
    "arr = [True]*(usNumber+1)\n",
    "for i in range(2, usNumber+1):\n",
    "    if arr[i] == True:\n",
    "        j=2\n",
    "        while(i*j)<=usNumber:\n",
    "            arr[i*j]=False\n",
    "            j+=1\n",
    "for k in range(2, usNumber+1):\n",
    "    if arr[k] == True:\n",
    "        print(k, end=' ')"
   ]
  },
  {
   "cell_type": "markdown",
   "id": "fcfc9cd3",
   "metadata": {},
   "source": [
    "정수를 입력받고, 그 정수의 크기만큼 1 값을 가지는 배열을 생성한다.  \n",
    "생성한 배열의 길이만큼 2부터 반복문을 돌린다.  \n",
    "배열의 값이 1인 경우 다음 반복문으로 진입한다. 상위 반복문의 인덱스값과 배율을 늘리기 위한 인덱스 값의 곱이 배열의 크기를 넘지 않게 하고,  \n",
    "각 인덱스값의 곱에 해당하는 배열값을 0으로 치환한다. 배율을 하나 높이고 반복해, 상위 반복문의 인덱스값인 소수의 곱을 모두 0으로 만든다.  \n",
    "반복문을 나온 뒤, 새로운 반복문을 들어가서, 배열값이 1인 경우를 뽑아내어 출력한다."
   ]
  },
  {
   "cell_type": "markdown",
   "id": "9ec23471",
   "metadata": {},
   "source": [
    "### 9. Kevin과 Stuart는 게임을 한다. 규칙은 아래와 같다.\n",
    "\n",
    "* 두 플레이어에게 같은 string, S, 가 주어진다.  \n",
    "* 두 플레이어는 string S의 문자를 사용하여 substring을 만들어야 한다(중복 가능).  \n",
    "* Stuart는 자음으로 시작하는 단어를 만들어야 한다.  \n",
    "* Kevin은 모음으로 시작하는 단어를 만들어야 한다.  \n",
    "* 게임은 두 플레이어가 만들 수 있는 모든 단어를 만들었을 때 끝난다.  \n",
    "* 점수 계산 : substring 1개당 +1 점을 획득한다. (아래 그림 참고)  \n"
   ]
  },
  {
   "cell_type": "code",
   "execution_count": 13,
   "id": "7bc5261e",
   "metadata": {},
   "outputs": [
    {
     "name": "stdout",
     "output_type": "stream",
     "text": [
      "string S를 입력하세요 : STARCRAFT\n",
      "승자 :  Stuart  점수 :  35\n"
     ]
    }
   ],
   "source": [
    "strS = input('string S를 입력하세요 : ')\n",
    "user1 = ['Stuart',0]\n",
    "user2 = ['Kevin', 0]\n",
    "for i in range(len(strS)):\n",
    "    if strS[i] == 'A' or strS[i] == 'E' or strS[i] == 'I' or strS[i] == 'O' or strS[i] == 'U':\n",
    "        user2[1] += len(strS)-i\n",
    "    else:\n",
    "        user1[1] += len(strS)-i\n",
    "if (user1[1]>user2[1]):\n",
    "    print('승자 : ', user1[0], ' 점수 : ', user1[1])\n",
    "elif (user1[1]<user2[1]):\n",
    "    print('승자 : ', user2[0], ' 점수 : ', user2[1])\n",
    "else:\n",
    "    print('무승부')"
   ]
  },
  {
   "cell_type": "markdown",
   "id": "5e2bced2",
   "metadata": {},
   "source": [
    "user데이터를 이름과 점수로 묶어 리스트로 만들었다  \n",
    "for문을 통해 입력받은 문자열 길이만큼 반복하고, 모음과 자음을 조건문을 통해 분리해서 접근한다.  \n",
    "게임의 형식은 결국 자음 또는 모음을 포함한 뒤의 문자 개수만큼 점수가 된다.  \n",
    "따라서 총 길이에 접근 중인 글자의 인덱스 값만큼을 빼면 해당 자음 또는 모음에서 시작하여 만들 수 있는 점수가 나온다.  \n",
    "for문을 통해 반복하는 동안 user리스트의 1번째 인덱스인 점수에 각 자음,모음에서의 점수를 더한다.  \n",
    "그 후 조건문을 통해 점수가 높은 쪽을 가려 승자와 승자의 점수를 가려내고 출력한다."
   ]
  },
  {
   "cell_type": "markdown",
   "id": "49528c25",
   "metadata": {},
   "source": [
    "### 10. 알파벳 소문자만으로 이루어진 string, S, 가 주어지고 아래 2가지 연산을 수행할 수 있다.\n",
    "* 추가 : string S의 끝에 알파벳 소문자 하나를 추가한다.\n",
    "* 삭제 : string S의 마지막 문자 하나를 삭제한다. empty string에서 삭제 연산을 수행한 결과는 empty string이다."
   ]
  },
  {
   "cell_type": "code",
   "execution_count": 6,
   "id": "ecde00ba",
   "metadata": {},
   "outputs": [
    {
     "name": "stdout",
     "output_type": "stream",
     "text": [
      "False\n",
      "True\n"
     ]
    }
   ],
   "source": [
    "def appendDelete(s, t, k):\n",
    "    \n",
    "    errSum=0\n",
    "    lessRange = min(len(s),len(t))\n",
    "    errid = lessRange\n",
    "    for i in range(lessRange):\n",
    "        if s[i] != t[i]:\n",
    "            errid = i\n",
    "            break\n",
    "    \n",
    "    errSum = len(s) + len(t) - 2 * errid\n",
    "    \n",
    "    if k == errSum or k >= (len(s)+len(t)) or (k >= errSum and k - errSum % 2 == 0):\n",
    "        # k가 오류를 고치는 합과 같거나, 총 길이보다 길거나, 오류고치는 합과 크면서 남은 연산을 + - 로 상쇄가 가능할 때\n",
    "        return True\n",
    "    else:\n",
    "        return False\n",
    "    \n",
    "s = 'hackerhappy'\n",
    "t = 'hackerrank'\n",
    "d = 'arac'\n",
    "y = 'ara'\n",
    "k = 7\n",
    "print(appendDelete(s,t,k))\n",
    "print(appendDelete(d,y,k))"
   ]
  },
  {
   "cell_type": "markdown",
   "id": "56cdba52",
   "metadata": {},
   "source": [
    "틀린 개수를 초기화하고, 반복문을 돌릴 범위를 두 string 중 짧은 길이를 선택하여 인덱스를 오버하지 않도록 한다.  \n",
    "반복문을 돌리며 인덱스마다 대조하다 틀린 경우, 해당 인덱스를 뽑아둔다.  \n",
    "틀린 개수는 s에서 틀린 부분 이후, t에서 틀린 부분 이후를 더해야 되므로, 각각의 길이에서 틀린 부분의 인덱스 만큼 뺀다.  \n",
    "예를 들어 hackerhappy hackerrank의 경우 틀린 인덱스는 6이므로, 각각의 길이인 11과 10에서 6씩을 빼 더해 9가 된다.  \n",
    "길이는 1부터 시작하고, 인덱스 값은 0부터 시작하지만, 틀린 부분의 인덱스 앞까지 자르므로 errid에 1을 더하면 안된다.  \n",
    "\n",
    "다음으로 반환 조건문이다.  \n",
    "True 가 반환되기 위한 조건은 3가지다.  \n",
    "1. 틀린 개수와 연산 개수가 동일할 때 ex) s = 'hackerhappy', t = 'hackerrank', k = 9  \n",
    "2. 연산 개수가 두 string의 길이보다 길어 s 를 완전히 지우고, t와 동일하게 적을 수 있을 때 ex) s = 'aba', t = 'aba', k = 7  \n",
    "3. 연산 개수가 틀린 개수보다 크면서, 남은 연산을 아무 글자나 쓰고 지워 상쇄가 가능할 때 ex) s = 'abac', t = 'aba', k = 3\n",
    "그 외에는 False를 반환한다.\n"
   ]
  },
  {
   "cell_type": "markdown",
   "id": "e1dda415",
   "metadata": {},
   "source": [
    "### 소감"
   ]
  },
  {
   "cell_type": "markdown",
   "id": "3ffb07af",
   "metadata": {},
   "source": [
    "강의 할 때 다양한 예시를 실행시켜서 이런 접근법과 사용법이 있다는 걸 보여주는 점이 굉장히 좋았습니다.  \n",
    "저는 PPT 강의 자료보다 Jupyter에 예시가 있어 입력하며 이해가 더 잘 됐습니다.  \n",
    "\n",
    "숙제의 경우, 문제의 이해 경우에 있어 9번은 이해가 잘 가지 않았습니다.  \n",
    "자음,모음으로 시작한 뒤의 단어생성 방법이 명시되지 않았습니다. stuart의 BN이라거나 kevin의 AB라는 단어는 왜 못 만드는지.  \n",
    "결국 만드는 규칙이 코딩의 핵심과 연결되어 있었습니다만, 그 점으로 봐서 일부러 핵심을 숨기신 건지 궁금합니다.  \n",
    "\n",
    "10번의 경우는 상당히 어려웠습니다. 특히 '정확히' 연산 개수를 맞춰야 되는 점에 조건을 찾기가 어려웠습니다.  \n",
    "empty string에서의 삭제 구현을 생략하고 만들었으나, 작동은 됩니다. 삭제 구현의 예시가 궁금합니다."
   ]
  },
  {
   "cell_type": "code",
   "execution_count": null,
   "id": "f420fcdb",
   "metadata": {},
   "outputs": [],
   "source": []
  }
 ],
 "metadata": {
  "kernelspec": {
   "display_name": "Python 3",
   "language": "python",
   "name": "python3"
  },
  "language_info": {
   "codemirror_mode": {
    "name": "ipython",
    "version": 3
   },
   "file_extension": ".py",
   "mimetype": "text/x-python",
   "name": "python",
   "nbconvert_exporter": "python",
   "pygments_lexer": "ipython3",
   "version": "3.8.8"
  }
 },
 "nbformat": 4,
 "nbformat_minor": 5
}
